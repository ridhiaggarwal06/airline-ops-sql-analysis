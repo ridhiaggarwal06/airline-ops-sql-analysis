{
  "cells": [
    {
      "cell_type": "markdown",
      "metadata": {
        "id": "view-in-github",
        "colab_type": "text"
      },
      "source": [
        "<a href=\"https://colab.research.google.com/github/ridhiaggarwal06/airline-ops-sql-analysis/blob/main/Schema%2Bqueries.ipynb\" target=\"_parent\"><img src=\"https://colab.research.google.com/assets/colab-badge.svg\" alt=\"Open In Colab\"/></a>"
      ]
    },
    {
      "cell_type": "markdown",
      "source": [
        "## 1. **Schema Implementation**"
      ],
      "metadata": {
        "id": "tWFHJKLmRmTM"
      }
    },
    {
      "cell_type": "code",
      "execution_count": null,
      "metadata": {
        "colab": {
          "base_uri": "https://localhost:8080/"
        },
        "id": "b6aNVuNemTte",
        "outputId": "2c691353-7cc6-41f7-f37b-3dc62c9a95c7"
      },
      "outputs": [
        {
          "output_type": "stream",
          "name": "stdout",
          "text": [
            "Database and tables created successfully!\n"
          ]
        }
      ],
      "source": [
        "import sqlite3\n",
        "\n",
        "#This statement creates a connection labelled as conn.  This will be used throughout to ensure the consistency for when we start to query the database tables.\n",
        "conn = sqlite3.connect('airline.db')\n",
        "cursor = conn.cursor()\n",
        "#ensuring that foreign keys are on for referential integrity\n",
        "cursor.execute(\"PRAGMA foreign_keys = ON\")\n",
        "\n",
        "# Creating aircraft table\n",
        "cursor.execute('''\n",
        "CREATE TABLE aircrafts (\n",
        "    aircraft_id VARCHAR(32) PRIMARY KEY NOT NULL,\n",
        "    aircraft_model TEXT,\n",
        "    aircraft_quota REAL,\n",
        "    aircraft_limit REAL,\n",
        "    seats_capacity INT\n",
        "\n",
        ");\n",
        "''')\n",
        "\n",
        "# Creating airports table\n",
        "cursor.execute('''\n",
        "CREATE TABLE airports (\n",
        "    airport_id VARCHAR(32) PRIMARY KEY NOT NULL,\n",
        "    airport_name TEXT,\n",
        "    airport_city TEXT,\n",
        "    airport_country TEXT\n",
        "\n",
        ");\n",
        "''')\n",
        "\n",
        "# Creating routes table\n",
        "cursor.execute('''\n",
        "CREATE TABLE routes (\n",
        "    route_id VARCHAR(32) PRIMARY KEY NOT NULL,\n",
        "    arrival_airport VARCHAR(32),\n",
        "    flight_duration REAL CHECK (flight_duration > 0),\n",
        "    FOREIGN KEY (arrival_airport) REFERENCES airports(airport_id)\n",
        "\n",
        ");\n",
        "''')\n",
        "\n",
        "# Creating flights table\n",
        "cursor.execute('''\n",
        "CREATE TABLE flights (\n",
        "    flight_id VARCHAR(32) PRIMARY KEY NOT NULL,\n",
        "    route_id VARCHAR(32),\n",
        "    departure_date DATETIME,\n",
        "    departure_day TEXT,\n",
        "    aircraft_id VARCHAR(32),\n",
        "    number_of_crew INT,\n",
        "    seats_booked INT,\n",
        "    FOREIGN KEY (route_id) REFERENCES routes(route_id),\n",
        "    FOREIGN KEY (aircraft_id) REFERENCES aircrafts(aircraft_id)\n",
        "\n",
        "\n",
        ");\n",
        "''')\n",
        "\n",
        "# Creating costs table\n",
        "cursor.execute('''\n",
        "CREATE TABLE costs (\n",
        "    cost_id VARCHAR(32) PRIMARY KEY NOT NULL,\n",
        "    flight_id VARCHAR(32) UNIQUE,\n",
        "    fuel_cost REAL,\n",
        "    crew_salary REAL,\n",
        "    turnaround_cost REAL,\n",
        "    FOREIGN KEY (flight_id) REFERENCES flights(flight_id) ON DELETE SET NULL\n",
        "\n",
        ");\n",
        "''')\n",
        "\n",
        "# Creating transactions table\n",
        "cursor.execute('''\n",
        "CREATE TABLE transactions (\n",
        "    transaction_id VARCHAR(32) PRIMARY KEY NOT NULL,\n",
        "    flight_id VARCHAR(32),\n",
        "    payment_amount REAL CHECK (payment_amount > 0),\n",
        "    seat_category TEXT,\n",
        "    FOREIGN KEY (flight_id) REFERENCES flights(flight_id) ON DELETE SET NULL\n",
        "\n",
        "\n",
        ");\n",
        "''')\n",
        "\n",
        "\n",
        "\n",
        "\n",
        "#This saves the chnages to the databae.  Up unitl this point the executed SQL statement isn't stored, changes are not immediatley saved.\n",
        "conn.commit()\n",
        "\n",
        "print(\"Database and tables created successfully!\")\n"
      ]
    },
    {
      "cell_type": "code",
      "execution_count": null,
      "metadata": {
        "colab": {
          "base_uri": "https://localhost:8080/"
        },
        "id": "b36OVPopobEE",
        "outputId": "58785442-93df-46a2-ee40-5ef662f9c7a0"
      },
      "outputs": [
        {
          "output_type": "stream",
          "name": "stdout",
          "text": [
            "Table: aircrafts\n",
            "  Column: aircraft_id, Type: VARCHAR(32), NotNull: 1, DefaultVal: None, PrimaryKey: 1\n",
            "  Column: aircraft_model, Type: TEXT, NotNull: 0, DefaultVal: None, PrimaryKey: 0\n",
            "  Column: aircraft_quota, Type: REAL, NotNull: 0, DefaultVal: None, PrimaryKey: 0\n",
            "  Column: aircraft_limit, Type: REAL, NotNull: 0, DefaultVal: None, PrimaryKey: 0\n",
            "  Column: seats_capacity, Type: INT, NotNull: 0, DefaultVal: None, PrimaryKey: 0\n",
            "--------------------\n",
            "Table: airports\n",
            "  Column: airport_id, Type: VARCHAR(32), NotNull: 1, DefaultVal: None, PrimaryKey: 1\n",
            "  Column: airport_name, Type: TEXT, NotNull: 0, DefaultVal: None, PrimaryKey: 0\n",
            "  Column: airport_city, Type: TEXT, NotNull: 0, DefaultVal: None, PrimaryKey: 0\n",
            "  Column: airport_country, Type: TEXT, NotNull: 0, DefaultVal: None, PrimaryKey: 0\n",
            "--------------------\n",
            "Table: routes\n",
            "  Column: route_id, Type: VARCHAR(32), NotNull: 1, DefaultVal: None, PrimaryKey: 1\n",
            "  Column: arrival_airport, Type: VARCHAR(32), NotNull: 0, DefaultVal: None, PrimaryKey: 0\n",
            "  Column: flight_duration, Type: REAL, NotNull: 0, DefaultVal: None, PrimaryKey: 0\n",
            "--------------------\n",
            "Table: flights\n",
            "  Column: flight_id, Type: VARCHAR(32), NotNull: 1, DefaultVal: None, PrimaryKey: 1\n",
            "  Column: route_id, Type: VARCHAR(32), NotNull: 0, DefaultVal: None, PrimaryKey: 0\n",
            "  Column: departure_date, Type: DATETIME, NotNull: 0, DefaultVal: None, PrimaryKey: 0\n",
            "  Column: departure_day, Type: TEXT, NotNull: 0, DefaultVal: None, PrimaryKey: 0\n",
            "  Column: aircraft_id, Type: VARCHAR(32), NotNull: 0, DefaultVal: None, PrimaryKey: 0\n",
            "  Column: number_of_crew, Type: INT, NotNull: 0, DefaultVal: None, PrimaryKey: 0\n",
            "  Column: seats_booked, Type: INT, NotNull: 0, DefaultVal: None, PrimaryKey: 0\n",
            "--------------------\n",
            "Table: costs\n",
            "  Column: cost_id, Type: VARCHAR(32), NotNull: 1, DefaultVal: None, PrimaryKey: 1\n",
            "  Column: flight_id, Type: VARCHAR(32), NotNull: 0, DefaultVal: None, PrimaryKey: 0\n",
            "  Column: fuel_cost, Type: REAL, NotNull: 0, DefaultVal: None, PrimaryKey: 0\n",
            "  Column: crew_salary, Type: REAL, NotNull: 0, DefaultVal: None, PrimaryKey: 0\n",
            "  Column: turnaround_cost, Type: REAL, NotNull: 0, DefaultVal: None, PrimaryKey: 0\n",
            "--------------------\n",
            "Table: transactions\n",
            "  Column: transaction_id, Type: VARCHAR(32), NotNull: 1, DefaultVal: None, PrimaryKey: 1\n",
            "  Column: flight_id, Type: VARCHAR(32), NotNull: 0, DefaultVal: None, PrimaryKey: 0\n",
            "  Column: payment_amount, Type: REAL, NotNull: 0, DefaultVal: None, PrimaryKey: 0\n",
            "  Column: seat_category, Type: TEXT, NotNull: 0, DefaultVal: None, PrimaryKey: 0\n",
            "--------------------\n"
          ]
        }
      ],
      "source": [
        "# Checking tables and their columns\n",
        "cursor.execute(\"SELECT name FROM sqlite_master WHERE type='table';\")\n",
        "tables = cursor.fetchall()\n",
        "\n",
        "for table_name in tables:\n",
        "    print(f\"Table: {table_name[0]}\")\n",
        "    cursor.execute(f\"PRAGMA table_info({table_name[0]});\")\n",
        "    columns = cursor.fetchall()\n",
        "    for col in columns:\n",
        "        print(f\"  Column: {col[1]}, Type: {col[2]}, NotNull: {col[3]}, DefaultVal: {col[4]}, PrimaryKey: {col[5]}\")\n",
        "    print(\"-\" * 20)\n",
        "\n"
      ]
    },
    {
      "cell_type": "code",
      "execution_count": null,
      "metadata": {
        "colab": {
          "base_uri": "https://localhost:8080/",
          "height": 351
        },
        "id": "BDArGwaTod97",
        "outputId": "279e5a9e-d0ad-40cf-9e4c-5737df882e55"
      },
      "outputs": [
        {
          "output_type": "display_data",
          "data": {
            "text/plain": [
              "<IPython.core.display.HTML object>"
            ],
            "text/html": [
              "\n",
              "     <input type=\"file\" id=\"files-3e4f3c5e-46ce-4364-9c48-961f1777e6d3\" name=\"files[]\" multiple disabled\n",
              "        style=\"border:none\" />\n",
              "     <output id=\"result-3e4f3c5e-46ce-4364-9c48-961f1777e6d3\">\n",
              "      Upload widget is only available when the cell has been executed in the\n",
              "      current browser session. Please rerun this cell to enable.\n",
              "      </output>\n",
              "      <script>// Copyright 2017 Google LLC\n",
              "//\n",
              "// Licensed under the Apache License, Version 2.0 (the \"License\");\n",
              "// you may not use this file except in compliance with the License.\n",
              "// You may obtain a copy of the License at\n",
              "//\n",
              "//      http://www.apache.org/licenses/LICENSE-2.0\n",
              "//\n",
              "// Unless required by applicable law or agreed to in writing, software\n",
              "// distributed under the License is distributed on an \"AS IS\" BASIS,\n",
              "// WITHOUT WARRANTIES OR CONDITIONS OF ANY KIND, either express or implied.\n",
              "// See the License for the specific language governing permissions and\n",
              "// limitations under the License.\n",
              "\n",
              "/**\n",
              " * @fileoverview Helpers for google.colab Python module.\n",
              " */\n",
              "(function(scope) {\n",
              "function span(text, styleAttributes = {}) {\n",
              "  const element = document.createElement('span');\n",
              "  element.textContent = text;\n",
              "  for (const key of Object.keys(styleAttributes)) {\n",
              "    element.style[key] = styleAttributes[key];\n",
              "  }\n",
              "  return element;\n",
              "}\n",
              "\n",
              "// Max number of bytes which will be uploaded at a time.\n",
              "const MAX_PAYLOAD_SIZE = 100 * 1024;\n",
              "\n",
              "function _uploadFiles(inputId, outputId) {\n",
              "  const steps = uploadFilesStep(inputId, outputId);\n",
              "  const outputElement = document.getElementById(outputId);\n",
              "  // Cache steps on the outputElement to make it available for the next call\n",
              "  // to uploadFilesContinue from Python.\n",
              "  outputElement.steps = steps;\n",
              "\n",
              "  return _uploadFilesContinue(outputId);\n",
              "}\n",
              "\n",
              "// This is roughly an async generator (not supported in the browser yet),\n",
              "// where there are multiple asynchronous steps and the Python side is going\n",
              "// to poll for completion of each step.\n",
              "// This uses a Promise to block the python side on completion of each step,\n",
              "// then passes the result of the previous step as the input to the next step.\n",
              "function _uploadFilesContinue(outputId) {\n",
              "  const outputElement = document.getElementById(outputId);\n",
              "  const steps = outputElement.steps;\n",
              "\n",
              "  const next = steps.next(outputElement.lastPromiseValue);\n",
              "  return Promise.resolve(next.value.promise).then((value) => {\n",
              "    // Cache the last promise value to make it available to the next\n",
              "    // step of the generator.\n",
              "    outputElement.lastPromiseValue = value;\n",
              "    return next.value.response;\n",
              "  });\n",
              "}\n",
              "\n",
              "/**\n",
              " * Generator function which is called between each async step of the upload\n",
              " * process.\n",
              " * @param {string} inputId Element ID of the input file picker element.\n",
              " * @param {string} outputId Element ID of the output display.\n",
              " * @return {!Iterable<!Object>} Iterable of next steps.\n",
              " */\n",
              "function* uploadFilesStep(inputId, outputId) {\n",
              "  const inputElement = document.getElementById(inputId);\n",
              "  inputElement.disabled = false;\n",
              "\n",
              "  const outputElement = document.getElementById(outputId);\n",
              "  outputElement.innerHTML = '';\n",
              "\n",
              "  const pickedPromise = new Promise((resolve) => {\n",
              "    inputElement.addEventListener('change', (e) => {\n",
              "      resolve(e.target.files);\n",
              "    });\n",
              "  });\n",
              "\n",
              "  const cancel = document.createElement('button');\n",
              "  inputElement.parentElement.appendChild(cancel);\n",
              "  cancel.textContent = 'Cancel upload';\n",
              "  const cancelPromise = new Promise((resolve) => {\n",
              "    cancel.onclick = () => {\n",
              "      resolve(null);\n",
              "    };\n",
              "  });\n",
              "\n",
              "  // Wait for the user to pick the files.\n",
              "  const files = yield {\n",
              "    promise: Promise.race([pickedPromise, cancelPromise]),\n",
              "    response: {\n",
              "      action: 'starting',\n",
              "    }\n",
              "  };\n",
              "\n",
              "  cancel.remove();\n",
              "\n",
              "  // Disable the input element since further picks are not allowed.\n",
              "  inputElement.disabled = true;\n",
              "\n",
              "  if (!files) {\n",
              "    return {\n",
              "      response: {\n",
              "        action: 'complete',\n",
              "      }\n",
              "    };\n",
              "  }\n",
              "\n",
              "  for (const file of files) {\n",
              "    const li = document.createElement('li');\n",
              "    li.append(span(file.name, {fontWeight: 'bold'}));\n",
              "    li.append(span(\n",
              "        `(${file.type || 'n/a'}) - ${file.size} bytes, ` +\n",
              "        `last modified: ${\n",
              "            file.lastModifiedDate ? file.lastModifiedDate.toLocaleDateString() :\n",
              "                                    'n/a'} - `));\n",
              "    const percent = span('0% done');\n",
              "    li.appendChild(percent);\n",
              "\n",
              "    outputElement.appendChild(li);\n",
              "\n",
              "    const fileDataPromise = new Promise((resolve) => {\n",
              "      const reader = new FileReader();\n",
              "      reader.onload = (e) => {\n",
              "        resolve(e.target.result);\n",
              "      };\n",
              "      reader.readAsArrayBuffer(file);\n",
              "    });\n",
              "    // Wait for the data to be ready.\n",
              "    let fileData = yield {\n",
              "      promise: fileDataPromise,\n",
              "      response: {\n",
              "        action: 'continue',\n",
              "      }\n",
              "    };\n",
              "\n",
              "    // Use a chunked sending to avoid message size limits. See b/62115660.\n",
              "    let position = 0;\n",
              "    do {\n",
              "      const length = Math.min(fileData.byteLength - position, MAX_PAYLOAD_SIZE);\n",
              "      const chunk = new Uint8Array(fileData, position, length);\n",
              "      position += length;\n",
              "\n",
              "      const base64 = btoa(String.fromCharCode.apply(null, chunk));\n",
              "      yield {\n",
              "        response: {\n",
              "          action: 'append',\n",
              "          file: file.name,\n",
              "          data: base64,\n",
              "        },\n",
              "      };\n",
              "\n",
              "      let percentDone = fileData.byteLength === 0 ?\n",
              "          100 :\n",
              "          Math.round((position / fileData.byteLength) * 100);\n",
              "      percent.textContent = `${percentDone}% done`;\n",
              "\n",
              "    } while (position < fileData.byteLength);\n",
              "  }\n",
              "\n",
              "  // All done.\n",
              "  yield {\n",
              "    response: {\n",
              "      action: 'complete',\n",
              "    }\n",
              "  };\n",
              "}\n",
              "\n",
              "scope.google = scope.google || {};\n",
              "scope.google.colab = scope.google.colab || {};\n",
              "scope.google.colab._files = {\n",
              "  _uploadFiles,\n",
              "  _uploadFilesContinue,\n",
              "};\n",
              "})(self);\n",
              "</script> "
            ]
          },
          "metadata": {}
        },
        {
          "output_type": "stream",
          "name": "stdout",
          "text": [
            "Saving AircraftTable.csv to AircraftTable.csv\n",
            "Saving airporttable.csv to airporttable.csv\n",
            "Saving finalcosttable.csv to finalcosttable.csv\n",
            "Saving finalfinaltransactiontable.csv to finalfinaltransactiontable.csv\n",
            "Saving finalflighttable(1).csv to finalflighttable(1).csv\n",
            "Saving finalroutetable.csv to finalroutetable.csv\n",
            "User uploaded file \"AircraftTable.csv\" with length 736 bytes\n",
            "User uploaded file \"airporttable.csv\" with length 5012 bytes\n",
            "User uploaded file \"finalcosttable.csv\" with length 26850 bytes\n",
            "User uploaded file \"finalfinaltransactiontable.csv\" with length 7008897 bytes\n",
            "User uploaded file \"finalflighttable(1).csv\" with length 41610 bytes\n",
            "User uploaded file \"finalroutetable.csv\" with length 718 bytes\n"
          ]
        }
      ],
      "source": [
        "# Upload CSV files\n",
        "from google.colab import files\n",
        "uploaded = files.upload()\n",
        "for fn in uploaded.keys():\n",
        "  print('User uploaded file \"{name}\" with length {length} bytes'.format(\n",
        "      name=fn, length=len(uploaded[fn])))"
      ]
    },
    {
      "cell_type": "code",
      "execution_count": null,
      "metadata": {
        "colab": {
          "base_uri": "https://localhost:8080/"
        },
        "id": "Qmps6iAmol05",
        "outputId": "7c374e60-b2aa-4a29-da4a-6ba51819dc56"
      },
      "outputs": [
        {
          "output_type": "stream",
          "name": "stdout",
          "text": [
            "Data imported successfully!\n"
          ]
        }
      ],
      "source": [
        "# Function to import CSV into a table\n",
        "import csv\n",
        "\n",
        "def import_csv_to_table(csv_file, table_name):\n",
        "    #opens the file aas read only 'r', doesn't allow the origianl csv to be changed.\n",
        "    with open(csv_file, 'r', encoding='utf-8') as file:\n",
        "        csv_reader = csv.reader(file)\n",
        "        next(csv_reader)  # Skip header row if present\n",
        "        for row in csv_reader:\n",
        "            #? creates a placeholder for each column in the CSV file. ['?','?','?'] - Join makes it a string so it can then be inserted.\n",
        "            # use of the '?' reduce risk of SQL injection\n",
        "            placeholders = ', '.join(['?' for _ in row])\n",
        "            #Assumes that the CSV and table have the same structure (this could be an issue) Would have to specify column names if different.\n",
        "            sql = f\"INSERT INTO {table_name} VALUES ({placeholders})\"\n",
        "            cursor.execute(sql, row)\n",
        "\n",
        "# Import data from CSV files into the relevant table. import_csv_to_table is the function, passing the two values across.\n",
        "try:\n",
        "    import_csv_to_table('airporttable.csv', 'airports')\n",
        "    import_csv_to_table('AircraftTable.csv', 'aircrafts')\n",
        "    import_csv_to_table('finalroutetable.csv', 'routes')\n",
        "    import_csv_to_table('finalflighttable(1).csv', 'flights')\n",
        "    import_csv_to_table('finalcosttable.csv', 'costs')\n",
        "    import_csv_to_table('finalfinaltransactiontable.csv', 'transactions')\n",
        "    conn.commit()\n",
        "    print(\"Data imported successfully!\")\n",
        "except Exception as e:\n",
        "    print(f\"An error occurred: {e}\")\n",
        "    conn.rollback()  # Rollback changes if an error occurred\n"
      ]
    },
    {
      "cell_type": "code",
      "execution_count": null,
      "metadata": {
        "colab": {
          "base_uri": "https://localhost:8080/"
        },
        "id": "gWymzsrfp8oL",
        "outputId": "c1d997ed-81a8-43c7-dcfb-5f1e64bfeb6f"
      },
      "outputs": [
        {
          "output_type": "stream",
          "name": "stdout",
          "text": [
            "\n",
            "Flights Table:\n",
            "                    flight_id                    route_id departure_date  \\\n",
            "0  01JP7Q3EMY876TT2CCTRKJMHT8  01JP5JPNR7BJBZDRBPAWEE51C1      5/20/2024   \n",
            "1  01JP7Q3ENCNX1JW8M6WF4M14P7  01JP5JPNR91N1BSRC2CRYXFS35      5/21/2024   \n",
            "2  01JP7Q3ENEP1NT89JRBBDKNRRM  01JP5JPNR9RSDJSMXZRQYNCGJK      5/29/2024   \n",
            "3  01JP7Q3ENGKC7RM67RTH09R1EY  01JP5JPNR61PTYNAQQTCKMFKD4      5/14/2024   \n",
            "4  01JP7Q3ENJGNMSQDGBNZKKMNV7  01JP5JPNREVQ0W429NCPYMBAXN      5/14/2024   \n",
            "5  01JP7Q3ENNKADTZNZ1X9H1P47B  01JP5JPNRBDQM6X7TEBYAZNGET      5/10/2024   \n",
            "6  01JP7Q3ENQ69M5W62FG1R5NJX5  01JP5JPNREH90ZG9MG7F6Q3J5T      5/26/2024   \n",
            "7  01JP7Q3ENS643MZ3YXFZ37BY26  01JP5JPNR9604RKK3E6WCPN0Q2      5/15/2024   \n",
            "8  01JP7Q3ENW6TX2CZ7FXS73E4QY  01JP5JPNRCTJ03ATQBRWH1WH4P      5/20/2024   \n",
            "9  01JP7Q3ENYS74Q3B6V055C1DJ9  01JP5JPNR9RSDJSMXZRQYNCGJK       5/5/2024   \n",
            "\n",
            "  departure_day aircraft_id  number_of_crew  seats_booked  \n",
            "0        Monday          16              15           288  \n",
            "1       Tuesday          19              13           100  \n",
            "2     Wednesday          17              16           214  \n",
            "3       Tuesday          22              17           216  \n",
            "4       Tuesday          29              11           131  \n",
            "5        Friday          29              14           102  \n",
            "6        Sunday          37              11           252  \n",
            "7     Wednesday          14              10           100  \n",
            "8        Monday          19              16           116  \n",
            "9        Sunday          34              20           258  \n",
            "\n",
            "Aircrafts Table:\n",
            "  aircraft_id aircraft_model  aircraft_quota  aircraft_limit  seats_capacity\n",
            "0           1           A330             9.0            52.0             299\n",
            "1           2           A380            10.0            58.0             538\n",
            "2           3           A320             3.0            51.0             193\n",
            "3           4           B777             1.0            60.0             316\n",
            "4           5           B777             2.0            55.0             352\n",
            "5           6           A330            10.0            50.0             263\n",
            "6           7           A330             5.0            56.0             296\n",
            "7           8           A320             5.0            58.0             199\n",
            "8           9           A330             8.0            56.0             281\n",
            "9          10           A320             9.0            54.0             163\n",
            "\n",
            "Airports Table:\n",
            "  airport_id                                      airport_name airport_city  \\\n",
            "0          1                      Athens International Airport       Athens   \n",
            "1          2              King Abdulaziz International Airport       Jeddah   \n",
            "2          3              George Bush Intercontinental Airport      Houston   \n",
            "3          4                           Helsinki-Vantaa Airport     Helsinki   \n",
            "4          5  Netaji Subhas Chandra Bose International Airport      Kolkata   \n",
            "5          6                Rajiv Gandhi International Airport    Hyderabad   \n",
            "6          7                     Incheon International Airport        Seoul   \n",
            "7          8               Indira Gandhi International Airport        Delhi   \n",
            "8          9  Hartsfield-Jackson Atlanta International Airport      Atlanta   \n",
            "9         10                   San Diego International Airport    San Diego   \n",
            "\n",
            "  airport_country  \n",
            "0          Greece  \n",
            "1    Saudi Arabia  \n",
            "2   United States  \n",
            "3         Finland  \n",
            "4           India  \n",
            "5           India  \n",
            "6     South Korea  \n",
            "7           India  \n",
            "8   United States  \n",
            "9   United States  \n",
            "\n",
            "Routes Table:\n",
            "                     route_id arrival_airport  flight_duration\n",
            "0  01JP5JPNR6Y5KD32S8YZAAQT8R              48              2.5\n",
            "1  01JP5JPNR61PTYNAQQTCKMFKD4              50             12.0\n",
            "2  01JP5JPNR7BJBZDRBPAWEE51C1              37              2.5\n",
            "3  01JP5JPNR72TVSKD8RCABR998H              10             11.0\n",
            "4  01JP5JPNR8SKG268NAGBBE99S7               3              9.0\n",
            "5  01JP5JPNR84FSFKEX2PV0CN0C9              23              4.0\n",
            "6  01JP5JPNR9604RKK3E6WCPN0Q2              27              1.5\n",
            "7  01JP5JPNR9RSDJSMXZRQYNCGJK              58             11.0\n",
            "8  01JP5JPNR91N1BSRC2CRYXFS35              56              1.5\n",
            "9  01JP5JPNRAP661YYAJKA4QPCFV              70              7.0\n",
            "\n",
            "Transactions Table:\n",
            "  transaction_id                   flight_id  payment_amount seat_category\n",
            "0      T00009837  01JP7Q3EQDKZCJM3ASCX7TFZCR           375.0      Business\n",
            "1      T00009549  01JP7Q3EQDKZCJM3ASCX7TFZCR           375.0      Business\n",
            "2      T00009850  01JP7Q3EQDKZCJM3ASCX7TFZCR           375.0      Business\n",
            "3      T00009631  01JP7Q3EQDKZCJM3ASCX7TFZCR           375.0      Business\n",
            "4      T00009580  01JP7Q3EQDKZCJM3ASCX7TFZCR           375.0      Business\n",
            "5      T00009870  01JP7Q3EQDKZCJM3ASCX7TFZCR           375.0      Business\n",
            "6      T00009853  01JP7Q3EQDKZCJM3ASCX7TFZCR           375.0      Business\n",
            "7      T00009600  01JP7Q3EQDKZCJM3ASCX7TFZCR           375.0      Business\n",
            "8      T00009544  01JP7Q3EQDKZCJM3ASCX7TFZCR           375.0      Business\n",
            "9      T00009926  01JP7Q3EQDKZCJM3ASCX7TFZCR           375.0      Business\n",
            "\n",
            "Costs Table:\n",
            "  cost_id                   flight_id  fuel_cost  crew_salary  turnaround_cost\n",
            "0       1  01JP7Q3EMY876TT2CCTRKJMHT8    14000.0       1475.0           2250.0\n",
            "1       2  01JP7Q3ENCNX1JW8M6WF4M14P7     3000.0        795.0           1750.0\n",
            "2       3  01JP7Q3ENEP1NT89JRBBDKNRRM    44000.0       6820.0           6500.0\n",
            "3       4  01JP7Q3ENGKC7RM67RTH09R1EY    48000.0       7800.0           7000.0\n",
            "4       5  01JP7Q3ENJGNMSQDGBNZKKMNV7    14000.0       3290.0           4500.0\n",
            "5       6  01JP7Q3ENNKADTZNZ1X9H1P47B    22000.0       6160.0           6500.0\n",
            "6       7  01JP7Q3ENQ69M5W62FG1R5NJX5    56000.0       4700.0           6000.0\n",
            "7       8  01JP7Q3ENS643MZ3YXFZ37BY26     3000.0        660.0           1750.0\n",
            "8       9  01JP7Q3ENW6TX2CZ7FXS73E4QY    18000.0       5580.0           5500.0\n",
            "9      10  01JP7Q3ENYS74Q3B6V055C1DJ9    61600.0       8140.0           6500.0\n"
          ]
        }
      ],
      "source": [
        "import pandas as pd\n",
        "\n",
        "# Query all six tables and load into pandas DataFrames\n",
        "flights_df = pd.read_sql_query(\"SELECT * FROM flights\", conn)\n",
        "aircrafts_df = pd.read_sql_query(\"SELECT * FROM aircrafts\", conn)\n",
        "airports_df=pd.read_sql_query(\"SELECT * FROM airports\",conn)\n",
        "routes_df=pd.read_sql_query(\"SELECT * FROM routes\",conn)\n",
        "transactions_df=pd.read_sql_query(\"SELECT * FROM transactions\",conn)\n",
        "costs_df=pd.read_sql_query(\"SELECT * FROM costs\",conn)\n",
        "\n",
        "\n",
        "# Show the first 10 lines of each DataFrame\n",
        "print(\"\\nFlights Table:\")\n",
        "print(flights_df.head(10))\n",
        "print(\"\\nAircrafts Table:\")\n",
        "print(aircrafts_df.head(10))\n",
        "print(\"\\nAirports Table:\")\n",
        "print(airports_df.head(10))\n",
        "print(\"\\nRoutes Table:\")\n",
        "print(routes_df.head(10))\n",
        "print(\"\\nTransactions Table:\")\n",
        "print(transactions_df.head(10))\n",
        "print(\"\\nCosts Table:\")\n",
        "print(costs_df.head(10))"
      ]
    },
    {
      "cell_type": "markdown",
      "source": [
        "## 2. EDA"
      ],
      "metadata": {
        "id": "Clyc970xRzv0"
      }
    },
    {
      "cell_type": "code",
      "execution_count": null,
      "metadata": {
        "colab": {
          "base_uri": "https://localhost:8080/"
        },
        "id": "6RnkkZjxEXRS",
        "outputId": "94f40eb4-f455-44f1-bed5-a8ba3d55795b"
      },
      "outputs": [
        {
          "output_type": "stream",
          "name": "stdout",
          "text": [
            "flight_id         0\n",
            "route_id          0\n",
            "departure_date    0\n",
            "departure_day     0\n",
            "aircraft_id       0\n",
            "number_of_crew    0\n",
            "seats_booked      0\n",
            "dtype: int64\n",
            "airport_id         0\n",
            "airport_name       0\n",
            "airport_city       0\n",
            "airport_country    0\n",
            "dtype: int64\n",
            "aircraft_id       0\n",
            "aircraft_model    0\n",
            "aircraft_quota    0\n",
            "aircraft_limit    0\n",
            "seats_capacity    0\n",
            "dtype: int64\n",
            "route_id           0\n",
            "arrival_airport    0\n",
            "flight_duration    0\n",
            "dtype: int64\n",
            "transaction_id    0\n",
            "flight_id         0\n",
            "payment_amount    0\n",
            "seat_category     0\n",
            "dtype: int64\n",
            "cost_id            0\n",
            "flight_id          0\n",
            "fuel_cost          0\n",
            "crew_salary        0\n",
            "turnaround_cost    0\n",
            "dtype: int64\n"
          ]
        }
      ],
      "source": [
        "#checking the quality of the data by ensuring no null values\n",
        "\n",
        "print(flights_df.isnull().sum())\n",
        "print(airports_df.isnull().sum())\n",
        "print(aircrafts_df.isnull().sum())\n",
        "print(routes_df.isnull().sum())\n",
        "print(transactions_df.isnull().sum())\n",
        "print(costs_df.isnull().sum())\n",
        "#no null values in any of the tables"
      ]
    },
    {
      "cell_type": "code",
      "source": [
        "#some basic statistics\n",
        "totalrevenue_df=pd.read_sql_query(\"SELECT SUM(payment_amount) AS totalrevenue FROM transactions\", conn)\n",
        "print(totalrevenue_df)\n",
        "\n",
        "totalcost_df=pd.read_sql_query(\"SELECT SUM(fuel_cost+crew_salary+turnaround_cost) AS totalcost FROM costs\",conn)\n",
        "print(totalcost_df)\n",
        "\n",
        "totalflights_df=pd.read_sql_query(\"SELECT COUNT(*) AS number_of_flights FROM flights\",conn)\n",
        "print(totalflights_df)\n",
        "\n",
        "totalaircrafts_df=pd.read_sql_query(\"SELECT COUNT(*) AS number_of_aircraft FROM aircrafts\",conn)\n",
        "print(totalaircrafts_df)\n",
        "\n",
        "totalroutes_df=pd.read_sql_query(\"SELECT COUNT(*) AS number_of_routes FROM routes\",conn)\n",
        "print(totalroutes_df)\n",
        "\n",
        "totaltransaction_df=pd.read_sql_query(\"SELECT COUNT(*) AS number_of_transactions FROM transactions\",conn)\n",
        "print(totaltransaction_df)\n",
        "\n",
        "#total revenue is about 78 million, with costs at about 22 million over 138000 transactions\n",
        "#total 40 aircraft are used over 20 routes, with 500 flights flown over the month"
      ],
      "metadata": {
        "colab": {
          "base_uri": "https://localhost:8080/"
        },
        "id": "68Mq9QeGPhMt",
        "outputId": "da30055f-0a1e-459e-dcc9-c0a75d135a35"
      },
      "execution_count": null,
      "outputs": [
        {
          "output_type": "stream",
          "name": "stdout",
          "text": [
            "   totalrevenue\n",
            "0    78108505.0\n",
            "    totalcost\n",
            "0  22606505.0\n",
            "   number_of_flights\n",
            "0                500\n",
            "   number_of_aircraft\n",
            "0                  40\n",
            "   number_of_routes\n",
            "0                20\n",
            "   number_of_transactions\n",
            "0                  138094\n"
          ]
        }
      ]
    },
    {
      "cell_type": "markdown",
      "source": [
        "## 3. Data Analysis"
      ],
      "metadata": {
        "id": "2HTDjp7xSAto"
      }
    },
    {
      "cell_type": "code",
      "execution_count": null,
      "metadata": {
        "colab": {
          "base_uri": "https://localhost:8080/"
        },
        "id": "PgtBPBhTqNMK",
        "outputId": "baa1d861-a0c0-4b59-cf65-e07d326cf1cb"
      },
      "outputs": [
        {
          "output_type": "stream",
          "name": "stdout",
          "text": [
            "   SUM(seats_booked) departure_day\n",
            "0              47313     Wednesday\n",
            "1              42606      Thursday\n",
            "2              11613       Tuesday\n",
            "3              11124        Friday\n",
            "4               8979      Saturday\n",
            "5               8417        Sunday\n",
            "6               8042        Monday\n"
          ]
        }
      ],
      "source": [
        "# Peak Travel days\n",
        "# Objective: Identify the days of the week with the highest passenger demand.\n",
        "# Method: Aggregate total seats booked per departure day and order descending\n",
        "\n",
        "flightsdemandbyday_df = pd.read_sql_query(\"SELECT SUM(seats_booked), departure_day FROM flights GROUP BY departure_day ORDER BY SUM(seats_booked) DESC\", conn)\n",
        "print(flightsdemandbyday_df)\n"
      ]
    },
    {
      "cell_type": "markdown",
      "source": [
        "Insight - Wednesdays and Thursday have the highest bookings, followed by Tuesdays."
      ],
      "metadata": {
        "id": "O9763afnUVwx"
      }
    },
    {
      "cell_type": "code",
      "execution_count": null,
      "metadata": {
        "colab": {
          "base_uri": "https://localhost:8080/"
        },
        "id": "R9DL5q3S9WDq",
        "outputId": "9de37fce-1729-4874-9448-59646970df15"
      },
      "outputs": [
        {
          "output_type": "stream",
          "name": "stdout",
          "text": [
            "    SUM(seats_booked)                    route_id\n",
            "0                9990  01JP5JPNR61PTYNAQQTCKMFKD4\n",
            "1                9483  01JP5JPNR6Y5KD32S8YZAAQT8R\n",
            "2                9265  01JP5JPNRCP9MJ5RAHSVX45KQY\n",
            "3                8846  01JP5JPNR84FSFKEX2PV0CN0C9\n",
            "4                8423  01JP5JPNR7BJBZDRBPAWEE51C1\n",
            "5                7607  01JP5JPNR8SKG268NAGBBE99S7\n",
            "6                7356  01JP5JPNRBSS6X83A35REQ0ZMH\n",
            "7                7260  01JP5JPNRDFQNQXBFA9SZHNZNJ\n",
            "8                7028  01JP5JPNREH90ZG9MG7F6Q3J5T\n",
            "9                6734  01JP5JPNR91N1BSRC2CRYXFS35\n",
            "10               6620  01JP5JPNR9604RKK3E6WCPN0Q2\n",
            "11               6613  01JP5JPNRBDQM6X7TEBYAZNGET\n",
            "12               6549  01JP5JPNRCTJ03ATQBRWH1WH4P\n",
            "13               6388  01JP5JPNREVQ0W429NCPYMBAXN\n",
            "14               5567  01JP5JPNRCPJDJBKB17KSGDQQJ\n",
            "15               5310  01JP5JPNRAP661YYAJKA4QPCFV\n",
            "16               5159  01JP5JPNR72TVSKD8RCABR998H\n",
            "17               4993  01JP5JPNRDNFHCETWN5KX32TKF\n",
            "18               4588  01JP5JPNRAXVT13JSB0JDC18K3\n",
            "19               4315  01JP5JPNR9RSDJSMXZRQYNCGJK\n",
            "                      route_id    airport_city\n",
            "0   01JP5JPNR6Y5KD32S8YZAAQT8R       Barcelona\n",
            "1   01JP5JPNR61PTYNAQQTCKMFKD4           Tokyo\n",
            "2   01JP5JPNR7BJBZDRBPAWEE51C1            Rome\n",
            "3   01JP5JPNR72TVSKD8RCABR998H       San Diego\n",
            "4   01JP5JPNR8SKG268NAGBBE99S7         Houston\n",
            "5   01JP5JPNR84FSFKEX2PV0CN0C9        Istanbul\n",
            "6   01JP5JPNR9604RKK3E6WCPN0Q2        Brussels\n",
            "7   01JP5JPNR9RSDJSMXZRQYNCGJK       Las Vegas\n",
            "8   01JP5JPNR91N1BSRC2CRYXFS35       Frankfurt\n",
            "9   01JP5JPNRAP661YYAJKA4QPCFV     Kuwait City\n",
            "10  01JP5JPNRAXVT13JSB0JDC18K3          Boston\n",
            "11  01JP5JPNRBDQM6X7TEBYAZNGET         Bangkok\n",
            "12  01JP5JPNRBSS6X83A35REQ0ZMH         Chennai\n",
            "13  01JP5JPNRCTJ03ATQBRWH1WH4P       Hyderabad\n",
            "14  01JP5JPNRCPJDJBKB17KSGDQQJ           Lagos\n",
            "15  01JP5JPNRCP9MJ5RAHSVX45KQY           Paris\n",
            "16  01JP5JPNRDFQNQXBFA9SZHNZNJ    Philadelphia\n",
            "17  01JP5JPNRDNFHCETWN5KX32TKF  Rio de Janeiro\n",
            "18  01JP5JPNREVQ0W429NCPYMBAXN           Dubai\n",
            "19  01JP5JPNREH90ZG9MG7F6Q3J5T         Beijing\n"
          ]
        }
      ],
      "source": [
        "# 2. Highest Booked Routes (Demand)\n",
        "# Objective: Find the top routes with the greatest demand based on total bookings.\n",
        "\n",
        "flightsdemand_df = pd.read_sql_query(\"SELECT SUM(seats_booked), route_id FROM flights GROUP BY route_id ORDER BY SUM(seats_booked) DESC\", conn)\n",
        "print(flightsdemand_df)\n",
        "\n",
        "# Then, join with airports to get city names for better interpretation.\n",
        "citynames_df=pd.read_sql_query(\"SELECT route_id, airport_city FROM airports,routes WHERE airports.airport_id=routes.arrival_airport\",conn)\n",
        "print(citynames_df)\n"
      ]
    },
    {
      "cell_type": "markdown",
      "source": [
        "Insight - Top 5 booked routes are to Tokyo, Barcelona, Paris, Turkey, and Rome."
      ],
      "metadata": {
        "id": "KghLt4aDUyXG"
      }
    },
    {
      "cell_type": "code",
      "execution_count": null,
      "metadata": {
        "colab": {
          "base_uri": "https://localhost:8080/"
        },
        "id": "4YnSGalPbpMo",
        "outputId": "9c19e015-a5bb-43e8-b5ce-53b46a308bea"
      },
      "outputs": [
        {
          "output_type": "stream",
          "name": "stdout",
          "text": [
            "                      route_id  FillRate\n",
            "0   01JP5JPNRCP9MJ5RAHSVX45KQY  0.817596\n",
            "1   01JP5JPNR84FSFKEX2PV0CN0C9  0.812827\n",
            "2   01JP5JPNRDFQNQXBFA9SZHNZNJ  0.811899\n",
            "3   01JP5JPNR7BJBZDRBPAWEE51C1  0.807419\n",
            "4   01JP5JPNR91N1BSRC2CRYXFS35  0.807144\n",
            "5   01JP5JPNR6Y5KD32S8YZAAQT8R  0.805966\n",
            "6   01JP5JPNRAP661YYAJKA4QPCFV  0.804911\n",
            "7   01JP5JPNRCPJDJBKB17KSGDQQJ  0.803667\n",
            "8   01JP5JPNRBDQM6X7TEBYAZNGET  0.802062\n",
            "9   01JP5JPNRCTJ03ATQBRWH1WH4P  0.800905\n",
            "10  01JP5JPNR9RSDJSMXZRQYNCGJK  0.800111\n",
            "11  01JP5JPNR72TVSKD8RCABR998H  0.798483\n",
            "12  01JP5JPNR8SKG268NAGBBE99S7  0.797129\n",
            "13  01JP5JPNR9604RKK3E6WCPN0Q2  0.791014\n",
            "14  01JP5JPNREVQ0W429NCPYMBAXN  0.787572\n",
            "15  01JP5JPNRBSS6X83A35REQ0ZMH  0.785142\n",
            "16  01JP5JPNRAXVT13JSB0JDC18K3  0.782935\n",
            "17  01JP5JPNREH90ZG9MG7F6Q3J5T  0.782280\n",
            "18  01JP5JPNR61PTYNAQQTCKMFKD4  0.775561\n",
            "19  01JP5JPNRDNFHCETWN5KX32TKF  0.714306\n"
          ]
        }
      ],
      "source": [
        "# 3. Seat Occupancy (Fill Rate)\n",
        "# Objective: Calculate how full the flights are (seats booked ÷ total capacity).\n",
        "# Method: Join flights with aircrafts to get seat capacity, then compute fill rate.\n",
        "\n",
        "fillrate_df = pd.read_sql_query(\"SELECT route_id, SUM(seats_booked)*1.0/SUM(seats_capacity) AS FillRate FROM flights,aircrafts WHERE flights.aircraft_id = aircrafts.aircraft_id GROUP BY route_id ORDER BY FillRate DESC\", conn)\n",
        "print(fillrate_df)\n"
      ]
    },
    {
      "cell_type": "markdown",
      "source": [
        "Insight - Paris has the highest fill rate, followed by Istanbul and Philadelphia.\n"
      ],
      "metadata": {
        "id": "vovyQheiVRi3"
      }
    },
    {
      "cell_type": "code",
      "execution_count": null,
      "metadata": {
        "colab": {
          "base_uri": "https://localhost:8080/"
        },
        "id": "2PY0YUN3sfI1",
        "outputId": "dbcafc4b-be2b-40a4-d06a-ebfecb4e43f6"
      },
      "outputs": [
        {
          "output_type": "stream",
          "name": "stdout",
          "text": [
            "                      route_ID  TotalPayment\n",
            "0   01JP5JPNR61PTYNAQQTCKMFKD4    10384920.0\n",
            "1   01JP5JPNREH90ZG9MG7F6Q3J5T     6037800.0\n",
            "2   01JP5JPNRBSS6X83A35REQ0ZMH     5979850.0\n",
            "3   01JP5JPNRBDQM6X7TEBYAZNGET     5950670.0\n",
            "4   01JP5JPNR8SKG268NAGBBE99S7     5736645.0\n",
            "5   01JP5JPNRCTJ03ATQBRWH1WH4P     4893120.0\n",
            "6   01JP5JPNR72TVSKD8RCABR998H     4604765.0\n",
            "7   01JP5JPNRDFQNQXBFA9SZHNZNJ     4568410.0\n",
            "8   01JP5JPNRDNFHCETWN5KX32TKF     4474305.0\n",
            "9   01JP5JPNR9RSDJSMXZRQYNCGJK     3872825.0\n",
            "10  01JP5JPNREVQ0W429NCPYMBAXN     3580255.0\n",
            "11  01JP5JPNR84FSFKEX2PV0CN0C9     3067000.0\n",
            "12  01JP5JPNRAP661YYAJKA4QPCFV     2903565.0\n",
            "13  01JP5JPNRCPJDJBKB17KSGDQQJ     2764110.0\n",
            "14  01JP5JPNRAXVT13JSB0JDC18K3     2642850.0\n",
            "15  01JP5JPNR6Y5KD32S8YZAAQT8R     1969287.5\n",
            "16  01JP5JPNR7BJBZDRBPAWEE51C1     1784687.5\n",
            "17  01JP5JPNRCP9MJ5RAHSVX45KQY     1224757.5\n",
            "18  01JP5JPNR91N1BSRC2CRYXFS35      869985.0\n",
            "19  01JP5JPNR9604RKK3E6WCPN0Q2      798697.5\n",
            "                      route_id  AverageRevenue\n",
            "0   01JP5JPNR61PTYNAQQTCKMFKD4   288470.000000\n",
            "1   01JP5JPNRBDQM6X7TEBYAZNGET   247944.583333\n",
            "2   01JP5JPNR9RSDJSMXZRQYNCGJK   242051.562500\n",
            "3   01JP5JPNR72TVSKD8RCABR998H   230238.250000\n",
            "4   01JP5JPNREH90ZG9MG7F6Q3J5T   223622.222222\n",
            "5   01JP5JPNR8SKG268NAGBBE99S7   220640.192308\n",
            "6   01JP5JPNRBSS6X83A35REQ0ZMH   206201.724138\n",
            "7   01JP5JPNRDNFHCETWN5KX32TKF   203377.500000\n",
            "8   01JP5JPNRCTJ03ATQBRWH1WH4P   195724.800000\n",
            "9   01JP5JPNRDFQNQXBFA9SZHNZNJ   190350.416667\n",
            "10  01JP5JPNRCPJDJBKB17KSGDQQJ   153561.666667\n",
            "11  01JP5JPNREVQ0W429NCPYMBAXN   149177.291667\n",
            "12  01JP5JPNRAXVT13JSB0JDC18K3   146825.000000\n",
            "13  01JP5JPNRAP661YYAJKA4QPCFV   138265.000000\n",
            "14  01JP5JPNR84FSFKEX2PV0CN0C9   109535.714286\n",
            "15  01JP5JPNR7BJBZDRBPAWEE51C1    61540.948276\n",
            "16  01JP5JPNR6Y5KD32S8YZAAQT8R    57920.220588\n",
            "17  01JP5JPNRCP9MJ5RAHSVX45KQY    42233.017241\n",
            "18  01JP5JPNR91N1BSRC2CRYXFS35    34799.400000\n",
            "19  01JP5JPNR9604RKK3E6WCPN0Q2    31947.900000\n"
          ]
        }
      ],
      "source": [
        "# 4. Route Revenue\n",
        "# Objective: Measure total and average revenue for each route.\n",
        "# Total revenue per route:\n",
        "\n",
        "routerevenue_df = pd.read_sql_query(\"SELECT route_id, SUM(payment_amount) AS TotalPayment FROM (SELECT f.route_ID, t.payment_amount FROM transactions t, flights f, routes r WHERE t.flight_id = f.flight_id AND f.route_id = r.route_id) AS SubQuery GROUP BY route_id ORDER BY TotalPayment DESC\", conn)\n",
        "print(routerevenue_df)\n",
        "\n",
        "# Average revenue per flight on each route:\n",
        "\n",
        "averagerouterevenue_df = pd.read_sql_query(\"SELECT route_id, SUM(payment_amount)/COUNT(DISTINCT flight_id) AS AverageRevenue FROM (SELECT f.flight_id, f.route_id, t.payment_amount FROM transactions t, flights f, routes r WHERE t.flight_id = f.flight_id AND f.route_id = r.route_id) AS SubQuery GROUP BY route_id ORDER BY AverageRevenue DESC\", conn)\n",
        "print(averagerouterevenue_df)\n"
      ]
    },
    {
      "cell_type": "markdown",
      "source": [
        "Insight: Flights to Tokyo had the highest overall and average revenue.\n"
      ],
      "metadata": {
        "id": "3U0ehTUAVfo8"
      }
    },
    {
      "cell_type": "code",
      "execution_count": null,
      "metadata": {
        "colab": {
          "base_uri": "https://localhost:8080/"
        },
        "id": "RBBA4BZ69I9d",
        "outputId": "d57a5227-9dcd-4675-b364-3df39d8633da"
      },
      "outputs": [
        {
          "output_type": "stream",
          "name": "stdout",
          "text": [
            "    COUNT(aircraft_id) aircraft_id\n",
            "0                    1          20\n",
            "1                    1          28\n",
            "2                    6          39\n",
            "3                    7          24\n",
            "4                    8          13\n",
            "5                    8          27\n",
            "6                    9          11\n",
            "7                    9          14\n",
            "8                    9          16\n",
            "9                    9           6\n",
            "10                  10           1\n",
            "11                  10           3\n",
            "12                  10           8\n",
            "13                  11          12\n",
            "14                  11          36\n",
            "15                  11          37\n",
            "16                  11           7\n",
            "17                  12          15\n",
            "18                  12          18\n",
            "19                  12          22\n",
            "20                  12          26\n",
            "21                  12          30\n",
            "22                  12          38\n",
            "23                  13          35\n",
            "24                  14          10\n",
            "25                  14          32\n",
            "26                  14          40\n",
            "27                  15           5\n",
            "28                  16          19\n",
            "29                  16          29\n",
            "30                  16          33\n",
            "31                  17          23\n",
            "32                  17          34\n",
            "33                  18           4\n",
            "34                  18           9\n",
            "35                  19          17\n",
            "36                  19           2\n",
            "37                  19          31\n",
            "38                  21          21\n",
            "39                  21          25\n"
          ]
        }
      ],
      "source": [
        "# 5. Underutilised Aircraft\n",
        "# Objective: Identify aircraft that are rarely used in the month.\n",
        "\n",
        "\n",
        "aircraftutility_df = pd.read_sql_query(\"SELECT COUNT(aircraft_id),aircraft_id FROM flights GROUP BY aircraft_id ORDER BY COUNT(aircraft_id) ASC\",conn)\n",
        "print(aircraftutility_df)\n",
        "#we see that there are two aircraft that only fly once in the month, checking to see more about them"
      ]
    },
    {
      "cell_type": "markdown",
      "source": [
        "Insight: Two aircraft were used only once, indicating potential inefficiency."
      ],
      "metadata": {
        "id": "rPA7hxuLVmGi"
      }
    },
    {
      "cell_type": "code",
      "execution_count": null,
      "metadata": {
        "colab": {
          "base_uri": "https://localhost:8080/"
        },
        "id": "uKR9hX3oBOtM",
        "outputId": "c878f4e7-0b00-4362-ff07-a0ca74738073"
      },
      "outputs": [
        {
          "output_type": "stream",
          "name": "stdout",
          "text": [
            "  aircraft_id aircraft_model  aircraft_quota  aircraft_limit  seats_capacity\n",
            "0          20           A320            10.0            52.0             181\n",
            "1          28           A380             3.0            60.0             538\n"
          ]
        }
      ],
      "source": [
        "# 6. Aircraft Details for Underutilisation\n",
        "# Objective: Inspect the underutilised aircraft models for context.\n",
        "\n",
        "underutilised_df = pd.read_sql_query(\"SELECT * FROM aircrafts WHERE aircraft_id='20' OR aircraft_id='28'\",conn)\n",
        "print(underutilised_df)\n"
      ]
    },
    {
      "cell_type": "markdown",
      "source": [
        "Insight -\n",
        "- Aircraft 20 is an A320 (short haul), Aircraft 28 is an A380 (long haul).\n",
        "- Business context: A380 should be deployed on Tokyo route (high revenue).\n",
        "- A320 should be assigned to Paris (highest demand/fill rate)."
      ],
      "metadata": {
        "id": "5_gohY1EV0XZ"
      }
    },
    {
      "cell_type": "code",
      "execution_count": null,
      "metadata": {
        "colab": {
          "base_uri": "https://localhost:8080/"
        },
        "id": "wxx_mZhUgBe1",
        "outputId": "75bc2195-50b7-4b6a-98d4-ab110e35a2ed"
      },
      "outputs": [
        {
          "output_type": "stream",
          "name": "stdout",
          "text": [
            "   Tokyo_Average_Cost\n",
            "0       129541.818182\n",
            "   Paris_Average_Cost\n",
            "0              5477.5\n"
          ]
        }
      ],
      "source": [
        "# 7. Cost Estimation of New Deployments\n",
        "# Objective: Estimate average operational cost of assigning new aircraft to routes.\n",
        "# Average cost of flying an A380 to Tokyo:\n",
        "\n",
        "tokyoA380cost_df = pd.read_sql_query(\"SELECT SUM(turnaround_cost+crew_salary+fuel_cost)/COUNT(*) AS Tokyo_Average_Cost FROM (SELECT * FROM costs c, flights f, aircrafts a WHERE c.flight_id = f.flight_id AND f.route_id = '01JP5JPNR61PTYNAQQTCKMFKD4' AND f.aircraft_id=a.aircraft_id AND a.aircraft_model='A380') AS SubQuery\", conn)\n",
        "print(tokyoA380cost_df)\n",
        "\n",
        "# Average cost of flying an A320 to Paris:\n",
        "parisA320cost_df = pd.read_sql_query(\"SELECT SUM(turnaround_cost+crew_salary+fuel_cost)/COUNT(*) AS Paris_Average_Cost FROM (SELECT * FROM costs c, flights f, aircrafts a WHERE c.flight_id = f.flight_id AND f.route_id = '01JP5JPNRCP9MJ5RAHSVX45KQY' AND f.aircraft_id=a.aircraft_id AND a.aircraft_model='A320') AS SubQuery\", conn)\n",
        "print(parisA320cost_df)\n"
      ]
    },
    {
      "cell_type": "markdown",
      "source": [
        "Insight: A380 to Tokyo costs ~£130,000, A320 to Paris costs ~£5,500."
      ],
      "metadata": {
        "id": "wxJDeW_IWEba"
      }
    },
    {
      "cell_type": "markdown",
      "source": [
        "## 4. Final Insights"
      ],
      "metadata": {
        "id": "etWTjWiaWT7T"
      }
    },
    {
      "cell_type": "markdown",
      "metadata": {
        "id": "khumNdlqj5sL"
      },
      "source": [
        "In conclusion, the best days to introduce new flights wouuld be on Wednesday and Thursdays since the number of seats booked on those days are the highest. We see that Paris, Rome, Tokyo, Istanbul and Barcelona are the most popular destinations in this monht. We also see that flights to Paris have the highest fill rate, i.e. the highest proportion of seats are filled, while flights to Tokyo yield the highest revenue. Hence, we should aim to have more flights to these 2 locations. We hence check our fleet, and find that an A380 (tail number 28) and an A320 (tail number 20) only fly once. Hence, we aim to use these two aircrafts, with the A320 for the shorter flight to Paris and the A380 for the longer haul flight to Tokyo. A cost analysis shows that for similar flights before, the average cost for the A380 to fly to Tokyo is 129541, and that for an A320 to Paris is 5477. The average revenue on these routes have been found to be 288470 and 42233 respectively, so there is significant margin to be made here."
      ]
    }
  ],
  "metadata": {
    "colab": {
      "provenance": [],
      "include_colab_link": true
    },
    "kernelspec": {
      "display_name": "Python 3",
      "name": "python3"
    },
    "language_info": {
      "name": "python"
    }
  },
  "nbformat": 4,
  "nbformat_minor": 0
}